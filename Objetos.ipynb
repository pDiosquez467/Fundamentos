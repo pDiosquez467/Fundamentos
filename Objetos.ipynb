{
  "nbformat": 4,
  "nbformat_minor": 0,
  "metadata": {
    "colab": {
      "provenance": [],
      "authorship_tag": "ABX9TyPFRPPGT54RuDtbC442kinW",
      "include_colab_link": true
    },
    "kernelspec": {
      "name": "python3",
      "display_name": "Python 3"
    },
    "language_info": {
      "name": "python"
    }
  },
  "cells": [
    {
      "cell_type": "markdown",
      "metadata": {
        "id": "view-in-github",
        "colab_type": "text"
      },
      "source": [
        "<a href=\"https://colab.research.google.com/github/pDiosquez467/Fundamentos/blob/main/Objetos.ipynb\" target=\"_parent\"><img src=\"https://colab.research.google.com/assets/colab-badge.svg\" alt=\"Open In Colab\"/></a>"
      ]
    },
    {
      "cell_type": "markdown",
      "source": [
        "Ejercicio 12.1.\n",
        "\n",
        "a) Implementar la clase **Intervalo(desde, hasta)** que representa un intervalo entre dos\n",
        "instantes de tiempo (números enteros expresados en segundos), con la condición desde\n",
        "< hasta.\n",
        "\n",
        "b) Implementar el método duracion que devuelve la duración en segundos del intervalo.\n",
        "\n",
        "c) Implementar el método interseccion que recibe otro intervalo y devuelve un nuevo in-\n",
        "tervalo resultante de la intersección entre ambos, o lanzar una excepción si la intersección es nula.\n",
        "\n",
        "d) Implementar el método union que recibe otro intervalo. Si los intervalos no son adyacentes ni intersectan, debe lanzar una excepción. En caso contrario devuelve un nuevo intervalo resultante de la unión entre ambos.\n"
      ],
      "metadata": {
        "id": "fwUlLND0ED70"
      }
    }
  ]
}