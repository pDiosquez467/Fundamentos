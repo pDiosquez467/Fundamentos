{
  "nbformat": 4,
  "nbformat_minor": 0,
  "metadata": {
    "colab": {
      "provenance": [],
      "authorship_tag": "ABX9TyOVg17xv64tTr26lXPFE+Bd",
      "include_colab_link": true
    },
    "kernelspec": {
      "name": "python3",
      "display_name": "Python 3"
    },
    "language_info": {
      "name": "python"
    }
  },
  "cells": [
    {
      "cell_type": "markdown",
      "metadata": {
        "id": "view-in-github",
        "colab_type": "text"
      },
      "source": [
        "<a href=\"https://colab.research.google.com/github/pDiosquez467/Fundamentos/blob/main/Objetos.ipynb\" target=\"_parent\"><img src=\"https://colab.research.google.com/assets/colab-badge.svg\" alt=\"Open In Colab\"/></a>"
      ]
    },
    {
      "cell_type": "markdown",
      "source": [
        "Ejercicio 12.1.\n",
        "\n",
        "a) Implementar la clase **Intervalo(desde, hasta)** que representa un intervalo entre dos\n",
        "instantes de tiempo (números enteros expresados en segundos), con la condición desde\n",
        "< hasta.\n",
        "\n",
        "b) Implementar el método duracion que devuelve la duración en segundos del intervalo.\n",
        "\n",
        "c) Implementar el método interseccion que recibe otro intervalo y devuelve un nuevo in-\n",
        "tervalo resultante de la intersección entre ambos, o lanzar una excepción si la intersección es nula.\n",
        "\n",
        "d) Implementar el método union que recibe otro intervalo. Si los intervalos no son adyacentes ni intersectan, debe lanzar una excepción. En caso contrario devuelve un nuevo intervalo resultante de la unión entre ambos.\n"
      ],
      "metadata": {
        "id": "fwUlLND0ED70"
      }
    },
    {
      "cell_type": "code",
      "source": [],
      "metadata": {
        "id": "syBLRXJiEz_0"
      },
      "execution_count": null,
      "outputs": []
    },
    {
      "cell_type": "markdown",
      "source": [
        "Ejercicio 12.2.\n",
        "\n",
        "a) Crear una clase **Fraccion**, que cuente con dos atributos: dividendo y divisor, que se asignan en el constructor, y se imprimen como X/Y en el método __str__.\n",
        "\n",
        "b) Implementar el método __add__ que recibe otra fracción y devuelve una nueva fracción con la suma de ambas.\n",
        "\n",
        "c) Implementar el método __mul__ que recibe otra fracción y devuelve una nueva fracción con el producto de ambas.\n",
        "\n",
        "d) Crear un método simplificar que modifica la fracción actual de forma que los valores del dividendo y divisor sean los menores posibles."
      ],
      "metadata": {
        "id": "Gp6S6NA6E0sH"
      }
    },
    {
      "cell_type": "code",
      "source": [],
      "metadata": {
        "id": "MxR4awP9FJ_b"
      },
      "execution_count": null,
      "outputs": []
    },
    {
      "cell_type": "markdown",
      "source": [
        "Ejercicio 12.3.\n",
        "a) Crear una clase **Vector**, que en su constructor reciba una lista de elementos que serán sus coordenadas. En el método __str__ se imprime su contenido con el formato [x,y,z].\n",
        "\n",
        "b) Implementar el método __add__ que reciba otro vector, verifique si tienen la misma cantidad de elementos y devuelva un nuevo vector con la suma de ambos. Si no tienen la misma cantidad de elementos debe levantar una excepción.\n",
        "\n",
        "c) Implementar el método __mul__ que reciba un número y devuelva un nuevo vector, con los elementos multiplicados por ese número."
      ],
      "metadata": {
        "id": "_ORNx2hsFK9S"
      }
    }
  ]
}