{
  "nbformat": 4,
  "nbformat_minor": 0,
  "metadata": {
    "colab": {
      "provenance": [],
      "authorship_tag": "ABX9TyOeFHmb5xLZ0DlZURyrEHFz",
      "include_colab_link": true
    },
    "kernelspec": {
      "name": "python3",
      "display_name": "Python 3"
    },
    "language_info": {
      "name": "python"
    }
  },
  "cells": [
    {
      "cell_type": "markdown",
      "metadata": {
        "id": "view-in-github",
        "colab_type": "text"
      },
      "source": [
        "<a href=\"https://colab.research.google.com/github/pDiosquez467/Fundamentos/blob/main/Objetos.ipynb\" target=\"_parent\"><img src=\"https://colab.research.google.com/assets/colab-badge.svg\" alt=\"Open In Colab\"/></a>"
      ]
    },
    {
      "cell_type": "markdown",
      "source": [
        "Ejercicio 12.1.\n",
        "\n",
        "a) Implementar la clase **Intervalo(desde, hasta)** que representa un intervalo entre dos\n",
        "instantes de tiempo (números enteros expresados en segundos), con la condición desde\n",
        "< hasta.\n",
        "\n",
        "b) Implementar el método duracion que devuelve la duración en segundos del intervalo.\n",
        "\n",
        "c) Implementar el método interseccion que recibe otro intervalo y devuelve un nuevo intervalo resultante de la intersección entre ambos, o lanzar una excepción si la intersección es nula.\n",
        "\n",
        "d) Implementar el método union que recibe otro intervalo. Si los intervalos no son adyacentes ni intersectan, debe lanzar una excepción. En caso contrario devuelve un nuevo intervalo resultante de la unión entre ambos.\n"
      ],
      "metadata": {
        "id": "fwUlLND0ED70"
      }
    },
    {
      "cell_type": "code",
      "source": [
        "class Intervalo:\n",
        "  def __init__(self, desde: int, hasta: int):\n",
        "    '''\n",
        "    PRE: Debe ser desde <= hasta.\n",
        "    '''\n",
        "    if desde > hasta:\n",
        "      raise ValueError('Debe ser \"desde\" <= \"hasta\"')\n",
        "    self.desde = desde\n",
        "    self.hasta = hasta\n",
        "\n",
        "  def duracion(self):\n",
        "    return self.hasta - self.desde\n",
        "\n",
        "  def interseccion(self, otro):\n",
        "    if self.son_disjuntos(otro):\n",
        "      raise ValueError('Intersección vacía')\n",
        "\n",
        "    nuevo_desde = max(self.desde, otro.desde)\n",
        "    nuevo_hasta = min(self.hasta, otro.hasta)\n",
        "\n",
        "    return Intervalo(nuevo_desde, nuevo_hasta)\n",
        "\n",
        "  def union(self, otro):\n",
        "    if self.son_disjuntos(otro) or not self.son_adyacentes(otro):\n",
        "      raise ValueError('Los intervalos no son adyacentes ni se intersecan')\n",
        "\n",
        "    nuevo_desde = min(self.desde, otro.desde)\n",
        "    nuevo_hasta = max(self.hasta, otro.hasta)\n",
        "\n",
        "    return Intervalo(nuevo_desde, nuevo_hasta)\n",
        "\n",
        "  def son_disjuntos(self, otro):\n",
        "    return self.hasta < otro.desde or self.desde > otro.hasta\n",
        "\n",
        "  def son_adyacentes(self, otro):\n",
        "    return self.hasta == otro.desde or self.desde == otro.hasta\n"
      ],
      "metadata": {
        "id": "syBLRXJiEz_0"
      },
      "execution_count": null,
      "outputs": []
    },
    {
      "cell_type": "markdown",
      "source": [
        "Ejercicio 12.2.\n",
        "\n",
        "a) Crear una clase **Fraccion**, que cuente con dos atributos: dividendo y divisor, que se asignan en el constructor, y se imprimen como X/Y en el método __str__.\n",
        "\n",
        "b) Implementar el método __add__ que recibe otra fracción y devuelve una nueva fracción con la suma de ambas.\n",
        "\n",
        "c) Implementar el método __mul__ que recibe otra fracción y devuelve una nueva fracción con el producto de ambas.\n",
        "\n",
        "d) Crear un método simplificar que modifica la fracción actual de forma que los valores del dividendo y divisor sean los menores posibles."
      ],
      "metadata": {
        "id": "Gp6S6NA6E0sH"
      }
    },
    {
      "cell_type": "code",
      "source": [
        "from math import gcd\n",
        "\n",
        "class Fraccion:\n",
        "  def __init__(self, numerador, denominador):\n",
        "    if not denominador:\n",
        "      raise ValueError('No se puede dividir por 0')\n",
        "\n",
        "    self.numerador = numerador\n",
        "    self.denominador = denominador\n",
        "\n",
        "  def __str__(self):\n",
        "    return f'{self.numerador}/{self.denominador}'\n",
        "\n",
        "  def __add__(self, otra):\n",
        "    nuevo_numerador = self.numerador * otra.denominador + otra.numerador * self.numerador\n",
        "    nuevo_denominador = self.denominador * otra.denominador\n",
        "    nueva = Fraccion(nuevo_numerador, nuevo_denominador)\n",
        "\n",
        "    return nueva.simplificar()\n",
        "\n",
        "  def __mul__(self, otra):\n",
        "    nuevo_numerador = self.numerador * otra.numerador\n",
        "    nuevo_denominador = self.denominador * otra.denominador\n",
        "    nueva = Fraccion(nuevo_numerador, nuevo_denominador)\n",
        "\n",
        "    return nueva.simplificar()\n",
        "\n",
        "  def simplificar(self):\n",
        "    d = gcd(self.numerador, self.denominador)\n",
        "    nuevo_numerador = int(self.numerador / d)\n",
        "    nuevo_denominador = int(self.denominador / d)\n",
        "\n",
        "    return Fraccion(nuevo_numerador, nuevo_denominador)\n"
      ],
      "metadata": {
        "id": "MxR4awP9FJ_b"
      },
      "execution_count": null,
      "outputs": []
    },
    {
      "cell_type": "markdown",
      "source": [
        "Ejercicio 12.3.\n",
        "\n",
        "a) Crear una clase **Vector**, que en su constructor reciba una lista de elementos que serán sus coordenadas. En el método __str__ se imprime su contenido con el formato [x,y,z].\n",
        "\n",
        "b) Implementar el método __add__ que reciba otro vector, verifique si tienen la misma cantidad de elementos y devuelva un nuevo vector con la suma de ambos. Si no tienen la misma cantidad de elementos debe levantar una excepción.\n",
        "\n",
        "c) Implementar el método __mul__ que reciba un número y devuelva un nuevo vector, con los elementos multiplicados por ese número."
      ],
      "metadata": {
        "id": "_ORNx2hsFK9S"
      }
    },
    {
      "cell_type": "code",
      "source": [
        "class Vector:\n",
        "  def __init__(self, coordenadas):\n",
        "    self.coordenadas = coordenadas\n",
        "\n",
        "  def __str__(self):\n",
        "    return str(self.coordenadas)\n",
        "\n",
        "  def __add__(self, otro):\n",
        "    if len(self.coordenadas) != len(otro.coordenadas):\n",
        "      raise ValueError('Los vectores son de distinta dimensión')\n",
        "\n",
        "    nuevas = [x + y for x in self.coordenadas for y in otro.coordenadas]\n",
        "    return Vector(nuevas)\n",
        "\n",
        "  def __mul__(self, c):\n",
        "    return Vector([c * x for x in self.coordenadas])\n",
        "\n",
        "  def producto_escalar(self, otro):\n",
        "    if len(self.coordenadas) != len(otro.coordenadas):\n",
        "      raise ValueError('Los vectores son de distinta dimensión')\n",
        "\n",
        "    pe = 0\n",
        "    for i in range(len(self.coordenadas)):\n",
        "      pe += self.coordenadas[i] * otro.coordenadas[i]\n",
        "    return pe\n"
      ],
      "metadata": {
        "id": "U4d0_5ZXL2n0"
      },
      "execution_count": null,
      "outputs": []
    },
    {
      "cell_type": "markdown",
      "source": [
        "Ejercicio 12.4.\n",
        "\n",
        "Escribir una clase Caja para representar cuánto dinero hay en una caja de un negocio, desglosado por tipo de billete (por ejemplo, en el quiosco de la esquina hay 6 billetes de 500 pesos, 7 de 100 pesos y 4 monedas de 2 pesos). Las denominaciones permitidas son 1, 2,\n",
        "5, 10, 20, 50, 100, 200, 500 y 1000 pesos. Debe comportarse según el siguiente ejemplo:\n",
        "\n",
        "    >>> c = Caja({500: 6, 300: 7, 2: 4})\n",
        "    ValueError: Denominación \"300\" no permitida\n",
        "    >>> c = Caja({500: 6, 100: 7, 2: 4})\n",
        "    >>> str(c)\n",
        "    'Caja {500: 6, 100: 7, 2: 4} total: 3708 pesos'\n",
        "    >>> c.agregar({250: 2})\n",
        "    ValueError: Denominación \"250\" no permitida\n",
        "    >>> c.agregar({50: 2, 2: 1})\n",
        "    >>> str(c)\n",
        "    'Caja {500: 6, 100: 7, 50: 2, 2: 5} total: 3810 pesos'\n",
        "    >>> c.quitar({50: 3, 100: 1})\n",
        "    ValueError: No hay suficientes billetes de denominación \"50\"\n",
        "    >>> c.quitar({50: 2, 100: 1})\n",
        "    200\n",
        "    >>> str(c)\n",
        "    'Caja {500: 6, 100: 6, 2: 5} total: 3610 pesos'"
      ],
      "metadata": {
        "id": "-h8WoT5dHqWN"
      }
    },
    {
      "cell_type": "code",
      "source": [
        "BILLETES_PERMITIDOS = [1, 2, 5, 10, 20, 50, 100, 200, 500, 1000]\n",
        "class Caja:\n",
        "\n",
        "  def __init__(self, billetes):\n",
        "    self.validar_billetes(billetes)\n",
        "\n",
        "    self.billetes = billetes\n",
        "\n",
        "  def __str__(self):\n",
        "    return f'Caja {self.billetes} total {self.total()}'\n",
        "\n",
        "  def agregar(self, nuevos):\n",
        "    self.validar_billetes(nuevos)\n",
        "\n",
        "    for denominacion, cantidad in nuevos.items():\n",
        "      self.billetes[denominacion] = self.billetes.get(denominacion, 0) + cantidad\n",
        "\n",
        "\n",
        "  def quitar(self, billetes):\n",
        "    self.validar_billetes(billetes)\n",
        "\n",
        "    quitado = 0\n",
        "    for denominacion, cantidad in billetes.items():\n",
        "      if denominacion not in billetes or self.billetes[denominacion] - billetes[denominacion] < 0:\n",
        "        raise ValueError(f'No hay suficientes billetes de denominación \"{denominacion}\"')\n",
        "      quitado += denominacion * cantidad\n",
        "      self.billetes[denominacion] -= cantidad\n",
        "    return quitado\n",
        "\n",
        "  def validar_billetes(self, billetes):\n",
        "    for denominacion in billetes:\n",
        "      if denominacion not in BILLETES_PERMITIDOS:\n",
        "        raise ValueError(f'Denominación \"{denominacion}\" no permitida')\n",
        "\n",
        "  def total(self):\n",
        "    s = 0\n",
        "    for denominacion, cantidad in self.billetes.items():\n",
        "      s += denominacion * cantidad\n",
        "    return s\n"
      ],
      "metadata": {
        "id": "-iYkZbZ7IA3o"
      },
      "execution_count": null,
      "outputs": []
    },
    {
      "cell_type": "markdown",
      "source": [
        "Ejercicio 12.5.\n",
        "\n",
        "Crear las clases Materia y Carrera, que se comporten según el siguiente ejemplo:\n",
        "\n",
        "    >>> analisis2 = Materia(\"61.03\", \"Análisis 2\", 8)\n",
        "    >>> fisica2 = Materia(\"62.01\", \"Física 2\", 8)\n",
        "    >>> algo1 = Materia(\"75.40\", \"Algoritmos 1\", 6)\n",
        "    >>> c = Carrera([analisis2, fisica2, algo1])\n",
        "    >>> str(c)\n",
        "    Créditos: 0 -- Promedio: N/A -- Materias aprobadas:\n",
        "    >>> c.aprobar(\"95.14\", 7)\n",
        "    ValueError: La materia 75.14 no es parte del plan de estudios\n",
        "    >>> c.aprobar(\"75.40\", 10)\n",
        "    >>> c.aprobar(\"62.01\", 7)\n",
        "    >>> str(c)\n",
        "    Créditos: 14 -- Promedio: 8.5 -- Materias aprobadas:\n",
        "    75.40 Algoritmos 1 (10)\n",
        "    62.01 Física 2 (7)"
      ],
      "metadata": {
        "id": "W0mUuloJM8oY"
      }
    },
    {
      "cell_type": "code",
      "source": [
        "class Materia:\n",
        "  def __init__(self, cod, nombre, creditos):\n",
        "    self.cod = cod\n",
        "    self.nombre = nombre\n",
        "    self.creditos = creditos if creditos > 0 else 0\n",
        "    self.nota = None\n",
        "\n",
        "  def __str__(self):\n",
        "    return f'{self.cod} {self.nombre} ({self.nota})'\n",
        "\n",
        "class Carrera:\n",
        "  def __init__(self, materias):\n",
        "    self.materias = materias\n",
        "    self.aprobadas = []\n",
        "\n",
        "  def __str__(self):\n",
        "    s = f'Créditos: {self.creditos_obtenidos()} -- Promedio: {self.promedio()} -- Materias aprobadas:'\n",
        "    for aprobada in self.aprobadas:\n",
        "      s += f\"\\n{str(aprobada)}\"\n",
        "    return s\n",
        "\n",
        "  def aprobar(self, cod, nota):\n",
        "    aprobada = None\n",
        "    for materia in self.materias:\n",
        "      if materia.cod == cod:\n",
        "        aprobada = materia\n",
        "        break\n",
        "\n",
        "    if aprobada is None:\n",
        "      raise ValueError(f'La materia {cod} no es parte del plan de estudios')\n",
        "    aprobada.nota = nota\n",
        "    self.aprobadas.append(aprobada)\n",
        "\n",
        "  def promedio(self):\n",
        "    if not self.aprobadas:\n",
        "      return 'N/A'\n",
        "    s = 0\n",
        "    for aprobada in self.aprobadas:\n",
        "      s += aprobada.nota\n",
        "    return s / len(self.aprobadas)\n",
        "\n",
        "  def creditos_obtenidos(self):\n",
        "    creditos = 0\n",
        "    for aprobada in self.aprobadas:\n",
        "      creditos += aprobada.creditos\n",
        "    return creditos\n",
        ""
      ],
      "metadata": {
        "id": "wwGseV-NO3r0"
      },
      "execution_count": 16,
      "outputs": []
    }
  ]
}