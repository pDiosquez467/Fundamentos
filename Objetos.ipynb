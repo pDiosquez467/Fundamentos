{
  "nbformat": 4,
  "nbformat_minor": 0,
  "metadata": {
    "colab": {
      "provenance": [],
      "authorship_tag": "ABX9TyNj9t49mzeWkaRxhToWtI1Z",
      "include_colab_link": true
    },
    "kernelspec": {
      "name": "python3",
      "display_name": "Python 3"
    },
    "language_info": {
      "name": "python"
    }
  },
  "cells": [
    {
      "cell_type": "markdown",
      "metadata": {
        "id": "view-in-github",
        "colab_type": "text"
      },
      "source": [
        "<a href=\"https://colab.research.google.com/github/pDiosquez467/Fundamentos/blob/main/Objetos.ipynb\" target=\"_parent\"><img src=\"https://colab.research.google.com/assets/colab-badge.svg\" alt=\"Open In Colab\"/></a>"
      ]
    },
    {
      "cell_type": "markdown",
      "source": [
        "Ejercicio 12.1.\n",
        "\n",
        "a) Implementar la clase **Intervalo(desde, hasta)** que representa un intervalo entre dos\n",
        "instantes de tiempo (números enteros expresados en segundos), con la condición desde\n",
        "< hasta.\n",
        "\n",
        "b) Implementar el método duracion que devuelve la duración en segundos del intervalo.\n",
        "\n",
        "c) Implementar el método interseccion que recibe otro intervalo y devuelve un nuevo intervalo resultante de la intersección entre ambos, o lanzar una excepción si la intersección es nula.\n",
        "\n",
        "d) Implementar el método union que recibe otro intervalo. Si los intervalos no son adyacentes ni intersectan, debe lanzar una excepción. En caso contrario devuelve un nuevo intervalo resultante de la unión entre ambos.\n"
      ],
      "metadata": {
        "id": "fwUlLND0ED70"
      }
    },
    {
      "cell_type": "code",
      "source": [
        "class Intervalo:\n",
        "  def __init__(self, desde: int, hasta: int):\n",
        "    '''\n",
        "    PRE: Debe ser desde <= hasta.\n",
        "    '''\n",
        "    if desde > hasta:\n",
        "      raise ValueError('Debe ser \"desde\" <= \"hasta\"')\n",
        "    self.desde = desde\n",
        "    self.hasta = hasta\n",
        "\n",
        "  def duracion(self):\n",
        "    return self.hasta - self.desde\n",
        "\n",
        "  def interseccion(self, otro):\n",
        "    if self.son_disjuntos(otro):\n",
        "      raise ValueError('Intersección vacía')\n",
        "\n",
        "    nuevo_desde = max(self.desde, otro.desde)\n",
        "    nuevo_hasta = min(self.hasta, otro.hasta)\n",
        "\n",
        "    return Intervalo(nuevo_desde, nuevo_hasta)\n",
        "\n",
        "  def union(self, otro):\n",
        "    if self.son_disjuntos(otro) or not self.son_adyacentes(otro):\n",
        "      raise ValueError('Los intervalos no son adyacentes ni se intersecan')\n",
        "\n",
        "    nuevo_desde = min(self.desde, otro.desde)\n",
        "    nuevo_hasta = max(self.hasta, otro.hasta)\n",
        "\n",
        "    return Intervalo(nuevo_desde, nuevo_hasta)\n",
        "\n",
        "  def son_disjuntos(self, otro):\n",
        "    return self.hasta < otro.desde or self.desde > otro.hasta\n",
        "\n",
        "  def son_adyacentes(self, otro):\n",
        "    return self.hasta == otro.desde or self.desde == otro.hasta\n"
      ],
      "metadata": {
        "id": "syBLRXJiEz_0"
      },
      "execution_count": null,
      "outputs": []
    },
    {
      "cell_type": "markdown",
      "source": [
        "Ejercicio 12.2.\n",
        "\n",
        "a) Crear una clase **Fraccion**, que cuente con dos atributos: dividendo y divisor, que se asignan en el constructor, y se imprimen como X/Y en el método __str__.\n",
        "\n",
        "b) Implementar el método __add__ que recibe otra fracción y devuelve una nueva fracción con la suma de ambas.\n",
        "\n",
        "c) Implementar el método __mul__ que recibe otra fracción y devuelve una nueva fracción con el producto de ambas.\n",
        "\n",
        "d) Crear un método simplificar que modifica la fracción actual de forma que los valores del dividendo y divisor sean los menores posibles."
      ],
      "metadata": {
        "id": "Gp6S6NA6E0sH"
      }
    },
    {
      "cell_type": "code",
      "source": [
        "from math import gcd\n",
        "\n",
        "class Fraccion:\n",
        "  def __init__(self, numerador, denominador):\n",
        "    if not denominador:\n",
        "      raise ValueError('No se puede dividir por 0')\n",
        "\n",
        "    self.numerador = numerador\n",
        "    self.denominador = denominador\n",
        "\n",
        "  def __str__(self):\n",
        "    return f'{self.numerador}/{self.denominador}'\n",
        "\n",
        "  def __add__(self, otra):\n",
        "    nuevo_numerador = self.numerador * otra.denominador + otra.numerador * self.numerador\n",
        "    nuevo_denominador = self.denominador * otra.denominador\n",
        "    nueva = Fraccion(nuevo_numerador, nuevo_denominador)\n",
        "\n",
        "    return nueva.simplificar()\n",
        "\n",
        "  def __mul__(self, otra):\n",
        "    nuevo_numerador = self.numerador * otra.numerador\n",
        "    nuevo_denominador = self.denominador * otra.denominador\n",
        "    nueva = Fraccion(nuevo_numerador, nuevo_denominador)\n",
        "\n",
        "    return nueva.simplificar()\n",
        "\n",
        "  def simplificar(self):\n",
        "    d = gcd(self.numerador, self.denominador)\n",
        "    nuevo_numerador = int(self.numerador / d)\n",
        "    nuevo_denominador = int(self.denominador / d)\n",
        "\n",
        "    return Fraccion(nuevo_numerador, nuevo_denominador)\n"
      ],
      "metadata": {
        "id": "MxR4awP9FJ_b"
      },
      "execution_count": 12,
      "outputs": []
    },
    {
      "cell_type": "markdown",
      "source": [
        "Ejercicio 12.3.\n",
        "\n",
        "a) Crear una clase **Vector**, que en su constructor reciba una lista de elementos que serán sus coordenadas. En el método __str__ se imprime su contenido con el formato [x,y,z].\n",
        "\n",
        "b) Implementar el método __add__ que reciba otro vector, verifique si tienen la misma cantidad de elementos y devuelva un nuevo vector con la suma de ambos. Si no tienen la misma cantidad de elementos debe levantar una excepción.\n",
        "\n",
        "c) Implementar el método __mul__ que reciba un número y devuelva un nuevo vector, con los elementos multiplicados por ese número."
      ],
      "metadata": {
        "id": "_ORNx2hsFK9S"
      }
    },
    {
      "cell_type": "code",
      "source": [
        "class Vector:\n",
        "  def __init__(self, coordenadas):\n",
        "    self.coordenadas = coordenadas\n",
        "\n",
        "  def __str__(self):\n",
        "    return str(self.coordenadas)\n",
        "\n",
        "  def __add__(self, otro):\n",
        "    if len(self.coordenadas) != len(otro.coordenadas):\n",
        "      raise ValueError('Los vectores son de distinta dimensión')\n",
        "\n",
        "    nuevas = [x + y for x in self.coordenadas for y in otro.coordenadas]\n",
        "    return Vector(nuevas)\n",
        "\n",
        "  def __mul__(self, c):\n",
        "    return Vector([c * x for x in self.coordenadas])\n",
        "\n",
        "  def producto_escalar(self, otro):\n",
        "    if len(self.coordenadas) != len(otro.coordenadas):\n",
        "      raise ValueError('Los vectores son de distinta dimensión')\n",
        "\n",
        "    pe = 0\n",
        "    for i in range(len(self.coordenadas)):\n",
        "      pe += self.coordenadas[i] * otro.coordenadas[i]\n",
        "    return pe\n"
      ],
      "metadata": {
        "id": "U4d0_5ZXL2n0"
      },
      "execution_count": 2,
      "outputs": []
    }
  ]
}