{
  "nbformat": 4,
  "nbformat_minor": 0,
  "metadata": {
    "colab": {
      "provenance": [],
      "authorship_tag": "ABX9TyPoGm6+WJ9NeEd7o0eXW/yG",
      "include_colab_link": true
    },
    "kernelspec": {
      "name": "python3",
      "display_name": "Python 3"
    },
    "language_info": {
      "name": "python"
    }
  },
  "cells": [
    {
      "cell_type": "markdown",
      "metadata": {
        "id": "view-in-github",
        "colab_type": "text"
      },
      "source": [
        "<a href=\"https://colab.research.google.com/github/pDiosquez467/Fundamentos/blob/main/Objetos.ipynb\" target=\"_parent\"><img src=\"https://colab.research.google.com/assets/colab-badge.svg\" alt=\"Open In Colab\"/></a>"
      ]
    },
    {
      "cell_type": "markdown",
      "source": [
        "Ejercicio 12.1.\n",
        "\n",
        "a) Implementar la clase **Intervalo(desde, hasta)** que representa un intervalo entre dos\n",
        "instantes de tiempo (números enteros expresados en segundos), con la condición desde\n",
        "< hasta.\n",
        "\n",
        "b) Implementar el método duracion que devuelve la duración en segundos del intervalo.\n",
        "\n",
        "c) Implementar el método interseccion que recibe otro intervalo y devuelve un nuevo intervalo resultante de la intersección entre ambos, o lanzar una excepción si la intersección es nula.\n",
        "\n",
        "d) Implementar el método union que recibe otro intervalo. Si los intervalos no son adyacentes ni intersectan, debe lanzar una excepción. En caso contrario devuelve un nuevo intervalo resultante de la unión entre ambos.\n"
      ],
      "metadata": {
        "id": "fwUlLND0ED70"
      }
    },
    {
      "cell_type": "code",
      "source": [
        "class Intervalo:\n",
        "  def __init__(self, desde: int, hasta: int):\n",
        "    '''\n",
        "    PRE: Debe ser desde <= hasta.\n",
        "    '''\n",
        "    if desde > hasta:\n",
        "      raise ValueError('Debe ser \"desde\" <= \"hasta\"')\n",
        "    self.desde = desde\n",
        "    self.hasta = hasta\n",
        "\n",
        "  def duracion(self):\n",
        "    return self.hasta - self.desde\n",
        "\n",
        "  def interseccion(self, otro):\n",
        "    if self.son_disjuntos(otro):\n",
        "      raise ValueError('Intersección vacía')\n",
        "\n",
        "    nuevo_desde = max(self.desde, otro.desde)\n",
        "    nuevo_hasta = min(self.hasta, otro.hasta)\n",
        "\n",
        "    return Intervalo(nuevo_desde, nuevo_hasta)\n",
        "\n",
        "  def union(self, otro):\n",
        "    if self.son_disjuntos(otro) or not self.son_adyacentes(otro):\n",
        "      raise ValueError('Los intervalos no son adyacentes ni se intersecan')\n",
        "\n",
        "    nuevo_desde = min(self.desde, otro.desde)\n",
        "    nuevo_hasta = max(self.hasta, otro.hasta)\n",
        "\n",
        "    return Intervalo(nuevo_desde, nuevo_hasta)\n",
        "\n",
        "  def son_disjuntos(self, otro):\n",
        "    return self.hasta < otro.desde or self.desde > otro.hasta\n",
        "\n",
        "  def son_adyacentes(self, otro):\n",
        "    return self.hasta == otro.desde or self.desde == otro.hasta\n",
        ""
      ],
      "metadata": {
        "id": "syBLRXJiEz_0"
      },
      "execution_count": 2,
      "outputs": []
    },
    {
      "cell_type": "markdown",
      "source": [
        "Ejercicio 12.2.\n",
        "\n",
        "a) Crear una clase **Fraccion**, que cuente con dos atributos: dividendo y divisor, que se asignan en el constructor, y se imprimen como X/Y en el método __str__.\n",
        "\n",
        "b) Implementar el método __add__ que recibe otra fracción y devuelve una nueva fracción con la suma de ambas.\n",
        "\n",
        "c) Implementar el método __mul__ que recibe otra fracción y devuelve una nueva fracción con el producto de ambas.\n",
        "\n",
        "d) Crear un método simplificar que modifica la fracción actual de forma que los valores del dividendo y divisor sean los menores posibles."
      ],
      "metadata": {
        "id": "Gp6S6NA6E0sH"
      }
    },
    {
      "cell_type": "code",
      "source": [],
      "metadata": {
        "id": "MxR4awP9FJ_b"
      },
      "execution_count": null,
      "outputs": []
    },
    {
      "cell_type": "markdown",
      "source": [
        "Ejercicio 12.3.\n",
        "a) Crear una clase **Vector**, que en su constructor reciba una lista de elementos que serán sus coordenadas. En el método __str__ se imprime su contenido con el formato [x,y,z].\n",
        "\n",
        "b) Implementar el método __add__ que reciba otro vector, verifique si tienen la misma cantidad de elementos y devuelva un nuevo vector con la suma de ambos. Si no tienen la misma cantidad de elementos debe levantar una excepción.\n",
        "\n",
        "c) Implementar el método __mul__ que reciba un número y devuelva un nuevo vector, con los elementos multiplicados por ese número."
      ],
      "metadata": {
        "id": "_ORNx2hsFK9S"
      }
    }
  ]
}