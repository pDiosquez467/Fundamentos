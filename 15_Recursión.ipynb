{
  "nbformat": 4,
  "nbformat_minor": 0,
  "metadata": {
    "colab": {
      "provenance": [],
      "authorship_tag": "ABX9TyMhIxjRTmMLTMsa2coAvSFT",
      "include_colab_link": true
    },
    "kernelspec": {
      "name": "python3",
      "display_name": "Python 3"
    },
    "language_info": {
      "name": "python"
    }
  },
  "cells": [
    {
      "cell_type": "markdown",
      "metadata": {
        "id": "view-in-github",
        "colab_type": "text"
      },
      "source": [
        "<a href=\"https://colab.research.google.com/github/pDiosquez467/Fundamentos/blob/main/15_Recursi%C3%B3n.ipynb\" target=\"_parent\"><img src=\"https://colab.research.google.com/assets/colab-badge.svg\" alt=\"Open In Colab\"/></a>"
      ]
    },
    {
      "cell_type": "markdown",
      "source": [
        "Ejercicio 15.1.\n",
        "\n",
        "Escribir una función recursiva que reciba un número positivo **n** y devuelva la cantidad de **dígitos** que tiene."
      ],
      "metadata": {
        "id": "9IGfIsc50XeG"
      }
    },
    {
      "cell_type": "code",
      "source": [
        "def cantidad_digitos(n: int) -> int:\n",
        "  n = abs(n)\n",
        "  return 1 if n <= 9 else 1 + cantidad_digitos(n // 10)"
      ],
      "metadata": {
        "id": "4-8FXn8P0bnq"
      },
      "execution_count": 11,
      "outputs": []
    },
    {
      "cell_type": "markdown",
      "source": [
        "Ejercicio 15.3.\n",
        "\n",
        "Escribir una función recursiva que reciba 2 enteros **n** y **b** y devuelva True si **n es potencia de b**.\n",
        "\n",
        "Ejemplos:\n",
        "\n",
        "    es_potencia(8, 2) -> True\n",
        "\n",
        "    es_potencia(64, 4) -> True\n",
        "\n",
        "    es_potencia(70, 10) -> False"
      ],
      "metadata": {
        "id": "FE0t_O6Q1yNa"
      }
    },
    {
      "cell_type": "code",
      "source": [
        "def es_potencia(n: int, b: int) -> bool:\n",
        "  return True if n == 1 else not n % b and es_potencia(n // b, b)"
      ],
      "metadata": {
        "id": "o7IqytiV2CZN"
      },
      "execution_count": 14,
      "outputs": []
    }
  ]
}