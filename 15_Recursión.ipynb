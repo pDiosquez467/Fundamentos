{
  "nbformat": 4,
  "nbformat_minor": 0,
  "metadata": {
    "colab": {
      "provenance": [],
      "authorship_tag": "ABX9TyNQBZYNoqFxZkj/gLen57uQ",
      "include_colab_link": true
    },
    "kernelspec": {
      "name": "python3",
      "display_name": "Python 3"
    },
    "language_info": {
      "name": "python"
    }
  },
  "cells": [
    {
      "cell_type": "markdown",
      "metadata": {
        "id": "view-in-github",
        "colab_type": "text"
      },
      "source": [
        "<a href=\"https://colab.research.google.com/github/pDiosquez467/Fundamentos/blob/main/15_Recursi%C3%B3n.ipynb\" target=\"_parent\"><img src=\"https://colab.research.google.com/assets/colab-badge.svg\" alt=\"Open In Colab\"/></a>"
      ]
    },
    {
      "cell_type": "markdown",
      "source": [
        "Ejercicio 15.1.\n",
        "\n",
        "Escribir una función recursiva que reciba un número positivo **n** y devuelva la cantidad de **dígitos** que tiene."
      ],
      "metadata": {
        "id": "9IGfIsc50XeG"
      }
    },
    {
      "cell_type": "code",
      "source": [
        "def cantidad_digitos(n: int) -> int:\n",
        "  n = abs(n)\n",
        "  return 1 if n <= 9 else 1 + cantidad_digitos(n // 10)"
      ],
      "metadata": {
        "id": "4-8FXn8P0bnq"
      },
      "execution_count": null,
      "outputs": []
    },
    {
      "cell_type": "markdown",
      "source": [
        "Ejercicio 15.3.\n",
        "\n",
        "Escribir una función recursiva que reciba 2 enteros **n** y **b** y devuelva True si **n es potencia de b**.\n",
        "\n",
        "Ejemplos:\n",
        "\n",
        "    es_potencia(8, 2) -> True\n",
        "\n",
        "    es_potencia(64, 4) -> True\n",
        "\n",
        "    es_potencia(70, 10) -> False"
      ],
      "metadata": {
        "id": "FE0t_O6Q1yNa"
      }
    },
    {
      "cell_type": "code",
      "source": [
        "def es_potencia(n: int, b: int) -> bool:\n",
        "  return True if n == 1 else not n % b and es_potencia(n // b, b)"
      ],
      "metadata": {
        "id": "o7IqytiV2CZN"
      },
      "execution_count": null,
      "outputs": []
    },
    {
      "cell_type": "markdown",
      "source": [
        "Ejercicio 15.5.\n",
        "\n",
        "Escribir dos funciones mutualmente recursivas **par(n)** e **impar(n)** que determinen la paridad del número natural dado, conociendo solo que:\n",
        "\n",
        "• 0 es par.\n",
        "\n",
        "• Si un número es impar, su antecesor es par; y viceversa."
      ],
      "metadata": {
        "id": "kWGRy4GvgMvb"
      }
    },
    {
      "cell_type": "code",
      "source": [
        "def par(n: int) -> bool:\n",
        "  'Indica si el número dado es par'\n",
        "  if not n:\n",
        "    return True\n",
        "  return impar(n-1)\n",
        "\n",
        "def impar(n: int) -> bool:\n",
        "  'Indica si el número dado es impar'\n",
        "  if not n:\n",
        "    return False\n",
        "  return par(n-1)"
      ],
      "metadata": {
        "id": "nvyEY9FxgY5_"
      },
      "execution_count": 5,
      "outputs": []
    },
    {
      "cell_type": "markdown",
      "source": [
        "Ejercicio 15.6.\n",
        "\n",
        "Escribir una función recursiva que calcule recursivamente el **n-ésimo  número triangular** (el número 1 + 2 + 3 + ⋯ + n)."
      ],
      "metadata": {
        "id": "bonvXJeHibPd"
      }
    },
    {
      "cell_type": "code",
      "source": [
        "def n_esimo_triangular(n: int) -> int:\n",
        "  if not n:\n",
        "    return 0\n",
        "  return n_esimo_triangular(n-1) + n"
      ],
      "metadata": {
        "id": "MuY5-q9nigbQ"
      },
      "execution_count": 7,
      "outputs": []
    },
    {
      "cell_type": "markdown",
      "source": [
        "Ejercicio 15.7.\n",
        "\n",
        "Escribir una función que calcule recursivamente **cuántos elementos hay en una pila**, suponiendo que la pila sólo tiene los métodos apilar y desapilar, y no altere el contenido de la pila."
      ],
      "metadata": {
        "id": "SAjB8mILjF1-"
      }
    },
    {
      "cell_type": "code",
      "source": [
        "def cantidad_apilados(pila) -> int:\n",
        "  'Describe la cantidad de elementos apilados en la pila dada.'\n",
        "  if pila.esta_vacia():\n",
        "    return 0\n",
        "  tope = pila.desapilar()\n",
        "  cant = cantidad_apilados(pila)\n",
        "  pila.apilar(tope)\n",
        "  return 1 + cant"
      ],
      "metadata": {
        "id": "d09Ix5ptjL2W"
      },
      "execution_count": 8,
      "outputs": []
    },
    {
      "cell_type": "markdown",
      "source": [
        "Ejercicio 15.8.\n",
        "\n",
        "Escribir una funcion recursiva que encuentre el **mayor elemento de una lista**."
      ],
      "metadata": {
        "id": "2245LfM-j5fj"
      }
    },
    {
      "cell_type": "code",
      "source": [
        "def mayor(L: list):\n",
        "  '''\n",
        "  Devuelve el mayor elemento de la lista dada\n",
        "  PRE:\n",
        "    - La lista no debe ser vacía.\n",
        "    - Los elementos deben ser comparables.\n",
        "  '''\n",
        "\n",
        "  def mayor_desde(L: list, desde: int):\n",
        "    if desde == len(L) - 1:\n",
        "      return L[desde]\n",
        "    return max(L[desde], mayor_desde(L, desde+1))\n",
        "\n",
        "  return mayor_desde(L, 0)"
      ],
      "metadata": {
        "id": "h9hvzRCTj9W0"
      },
      "execution_count": 17,
      "outputs": []
    }
  ]
}