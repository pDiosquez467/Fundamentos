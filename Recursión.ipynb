{
  "nbformat": 4,
  "nbformat_minor": 0,
  "metadata": {
    "colab": {
      "provenance": [],
      "authorship_tag": "ABX9TyMMCLux1pnresAJauQgmSjA",
      "include_colab_link": true
    },
    "kernelspec": {
      "name": "python3",
      "display_name": "Python 3"
    },
    "language_info": {
      "name": "python"
    }
  },
  "cells": [
    {
      "cell_type": "markdown",
      "metadata": {
        "id": "view-in-github",
        "colab_type": "text"
      },
      "source": [
        "<a href=\"https://colab.research.google.com/github/pDiosquez467/Fundamentos/blob/main/Recursi%C3%B3n.ipynb\" target=\"_parent\"><img src=\"https://colab.research.google.com/assets/colab-badge.svg\" alt=\"Open In Colab\"/></a>"
      ]
    },
    {
      "cell_type": "markdown",
      "source": [
        "Ejercicio 15.1.\n",
        "\n",
        "Escribir una función recursiva que reciba un número positivo **n** y devuelva la cantidad de **dígitos** que tiene."
      ],
      "metadata": {
        "id": "9IGfIsc50XeG"
      }
    },
    {
      "cell_type": "code",
      "source": [
        "def cantidad_digitos(n: int) -> int:\n",
        "  n = abs(n)\n",
        "  return 1 if n <= 9 else 1 + cantidad_digitos(n // 10)"
      ],
      "metadata": {
        "id": "4-8FXn8P0bnq"
      },
      "execution_count": 11,
      "outputs": []
    }
  ]
}